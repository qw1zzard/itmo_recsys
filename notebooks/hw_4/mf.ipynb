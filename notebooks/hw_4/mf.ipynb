{
 "cells": [
  {
   "cell_type": "markdown",
   "id": "cd125b2b",
   "metadata": {},
   "source": [
    "Before you turn this problem in, make sure everything runs as expected. First, **restart the kernel** (in the menubar, select Kernel $\\rightarrow$ Restart) and then **run all cells** (in the menubar, select Cell $\\rightarrow$ Run All).\n",
    "\n",
    "Make sure you fill in any place that says `YOUR CODE HERE` or \"YOUR ANSWER HERE\", as well as your name and collaborators below:"
   ]
  },
  {
   "cell_type": "code",
   "execution_count": 1,
   "id": "a89391ba",
   "metadata": {
    "execution": {
     "iopub.execute_input": "2025-04-06T16:22:19.765073Z",
     "iopub.status.busy": "2025-04-06T16:22:19.764663Z",
     "iopub.status.idle": "2025-04-06T16:22:19.771278Z",
     "shell.execute_reply": "2025-04-06T16:22:19.769765Z",
     "shell.execute_reply.started": "2025-04-06T16:22:19.765028Z"
    },
    "trusted": true
   },
   "outputs": [],
   "source": [
    "NAME = ''\n",
    "COLLABORATORS = ''"
   ]
  },
  {
   "cell_type": "markdown",
   "id": "ecae16b6",
   "metadata": {},
   "source": [
    "---"
   ]
  },
  {
   "cell_type": "markdown",
   "id": "8c9daa20-4463-4c29-86d7-e8b55a836d6a",
   "metadata": {
    "deletable": false,
    "nbgrader": {
     "cell_type": "markdown",
     "checksum": "36b30e8ebeb12fc2f6ea4f594d3e840a",
     "grade": false,
     "grade_id": "cell-11e06e57608fe1f3",
     "locked": true,
     "schema_version": 3,
     "solution": false,
     "task": false
    }
   },
   "source": [
    "# Домашнее задание №4. Матричная факторизация\n",
    "\n",
    "## Задачи - 25 баллов (+5 доп баллов)\n",
    "1. Ноутбук `mf.ipynb` - 20 баллов\n",
    "- ImplicitALS - 4 балла\n",
    "- SVD - 4 балла\n",
    "- Dataset with features - 2 балла\n",
    "- ImplicitALS with features - 5 баллов\n",
    "- LightFM with features - 5 баллов\n",
    "2. Имплементация модели в сервис - 5 баллов\n",
    "- Пробить на Leaderboard порог `map@10 = 0.075`\n",
    "- Если при этом используете MF (Implicit или LightFM) + ANN (nmslib, faiss, annoy и тд) - дополнительно 5 баллов\n",
    "  \n",
    "## Как сдать ноутбук `mf.ipynb` на проверку\n",
    "\n",
    "1. Прогоните весь код ноутбука - проверьте, что нет ошибок и тесты проходят\n",
    "2. Выложите готовый ноутбук в ваш репозиторий с сервисом из домашнего задания №1 по пути `notebooks/hw_4/mf.ipynb` в ветке `hw_4`\n",
    "3. Проверьте, что есть доступ к вашему репозиторию для аккаунтов `https://github.com/feldlime`\n",
    "4. Откройте PR в main ветку и добавьте в ревьюеры **своего ментора**\n",
    "5. Не проводите мердж в `main` ветку, пока не увидите оценку за это ДЗ в ведомости. Файл с ноутбуком должен находиться в ветке `hw_4`\n",
    "\n",
    "Обратите внимание, что сборка ноутбуков на проверку автоматизирована. В случае неправильного пути, имени файла или ветки (а также при отсутствии доступа у `@feldlime`) ваша работа не попадёт на проверку и получит `0` баллов."
   ]
  },
  {
   "cell_type": "markdown",
   "id": "a23ee5c6-55f6-4a47-89ca-9061a7f2e37e",
   "metadata": {
    "deletable": false,
    "nbgrader": {
     "cell_type": "markdown",
     "checksum": "2cc951d771fd1e9022ef563d86fccded",
     "grade": false,
     "grade_id": "cell-65f5b3c366201732",
     "locked": true,
     "schema_version": 3,
     "solution": false,
     "task": false
    }
   },
   "source": [
    "Используемые библиотеки в рамках ДЗ\n",
    "```bash\n",
    "pip install implicit==0.7.2 requests==2.32.3 rectools[lightfm]==0.12.0 pandas==2.2.3 numpy==1.26.4 scipy==1.12.0\n",
    "```"
   ]
  },
  {
   "cell_type": "markdown",
   "id": "4d49cde7-2156-468a-b3e2-e8467e241cf8",
   "metadata": {
    "deletable": false,
    "nbgrader": {
     "cell_type": "markdown",
     "checksum": "32f8a416541b1f30170e4fa36b916dde",
     "grade": false,
     "grade_id": "cell-1891eaa3c13c8609",
     "locked": true,
     "schema_version": 3,
     "solution": false,
     "task": false
    }
   },
   "source": [
    "## Импорты и данные"
   ]
  },
  {
   "cell_type": "code",
   "execution_count": 2,
   "id": "e3591f25-aedf-42b5-8b65-1f02e51d3020",
   "metadata": {
    "deletable": false,
    "execution": {
     "iopub.execute_input": "2025-04-06T16:23:48.920644Z",
     "iopub.status.busy": "2025-04-06T16:23:48.920386Z",
     "iopub.status.idle": "2025-04-06T16:24:02.641180Z",
     "shell.execute_reply": "2025-04-06T16:24:02.640250Z",
     "shell.execute_reply.started": "2025-04-06T16:23:48.920621Z"
    },
    "nbgrader": {
     "cell_type": "code",
     "checksum": "5d3560d43412588c0bb9bd078a42470b",
     "grade": false,
     "grade_id": "cell-1ebdc35957207757",
     "locked": true,
     "schema_version": 3,
     "solution": false,
     "task": false
    },
    "trusted": true
   },
   "outputs": [
    {
     "name": "stderr",
     "output_type": "stream",
     "text": [
      "d:\\GitHub\\itmo_recsys\\.venv\\Lib\\site-packages\\tqdm\\auto.py:21: TqdmWarning: IProgress not found. Please update jupyter and ipywidgets. See https://ipywidgets.readthedocs.io/en/stable/user_install.html\n",
      "  from .autonotebook import tqdm as notebook_tqdm\n",
      "d:\\GitHub\\itmo_recsys\\.venv\\Lib\\site-packages\\lightfm\\_lightfm_fast.py:9: UserWarning: LightFM was compiled without OpenMP support. Only a single thread will be used.\n",
      "  warnings.warn(\n"
     ]
    },
    {
     "data": {
      "text/plain": [
       "<threadpoolctl.threadpool_limits at 0x2bffe710410>"
      ]
     },
     "execution_count": 2,
     "metadata": {},
     "output_type": "execute_result"
    }
   ],
   "source": [
    "import os\n",
    "import os.path\n",
    "import pickle\n",
    "\n",
    "import numpy as np\n",
    "import pandas as pd\n",
    "import threadpoolctl\n",
    "from rectools import Columns\n",
    "from rectools.dataset import Dataset\n",
    "from rectools.metrics import MAP\n",
    "from rectools.models import model_from_config\n",
    "from rectools.tools import UserToItemAnnRecommender\n",
    "\n",
    "# For implicit ALS\n",
    "os.environ['OPENBLAS_NUM_THREADS'] = '1'\n",
    "threadpoolctl.threadpool_limits(1, 'blas')"
   ]
  },
  {
   "cell_type": "markdown",
   "id": "0265ea46-e840-452d-b43b-343cbb7eb160",
   "metadata": {
    "deletable": false,
    "nbgrader": {
     "cell_type": "markdown",
     "checksum": "3add5c8603bcb94148ba538219a4b475",
     "grade": false,
     "grade_id": "cell-42bc3babcb8ca15b",
     "locked": true,
     "schema_version": 3,
     "solution": false,
     "task": false
    }
   },
   "source": [
    "Если вдруг у вас нет данных, то используйте закомментированный код"
   ]
  },
  {
   "cell_type": "code",
   "execution_count": 3,
   "id": "f385743a-3642-4152-82bd-e4eca87130bd",
   "metadata": {
    "deletable": false,
    "nbgrader": {
     "cell_type": "code",
     "checksum": "232f52aebc14ef6476d381c2ad6032ce",
     "grade": false,
     "grade_id": "cell-51b8d9a8dc0e0600",
     "locked": true,
     "schema_version": 3,
     "solution": false,
     "task": false
    }
   },
   "outputs": [],
   "source": [
    "# url = 'https://github.com/irsafilo/KION_DATASET/raw/f69775be31fa5779907cf0a92ddedb70037fb5ae/data_original.zip'\n",
    "\n",
    "# req = requests.get(url, stream=True)\n",
    "\n",
    "# with open('kion.zip', 'wb') as fd:\n",
    "#     total_size_in_bytes = int(req.headers.get('Content-Length', 0))\n",
    "#     progress_bar = tqdm(desc='kion dataset download', total=total_size_in_bytes, unit='iB', unit_scale=True)\n",
    "#     for chunk in req.iter_content(chunk_size=2 ** 20):\n",
    "#         progress_bar.update(len(chunk))\n",
    "#         fd.write(chunk)\n",
    "\n",
    "# files = zf.ZipFile('kion.zip', 'r')\n",
    "# files.extractall()\n",
    "# files.close()"
   ]
  },
  {
   "cell_type": "code",
   "execution_count": 3,
   "id": "2e1b9888-cdc7-47a3-9162-a1ae7de7144e",
   "metadata": {
    "deletable": false,
    "execution": {
     "iopub.execute_input": "2025-04-06T16:24:08.066190Z",
     "iopub.status.busy": "2025-04-06T16:24:08.065868Z",
     "iopub.status.idle": "2025-04-06T16:24:13.366755Z",
     "shell.execute_reply": "2025-04-06T16:24:13.365814Z",
     "shell.execute_reply.started": "2025-04-06T16:24:08.066149Z"
    },
    "nbgrader": {
     "cell_type": "code",
     "checksum": "4ca1c8989d0a4dc05a6f530e86d11d7e",
     "grade": false,
     "grade_id": "cell-a1b82be4e2c39f91",
     "locked": true,
     "schema_version": 3,
     "solution": false,
     "task": false
    },
    "trusted": true
   },
   "outputs": [
    {
     "name": "stdout",
     "output_type": "stream",
     "text": [
      "(5476251, 5)\n"
     ]
    },
    {
     "data": {
      "text/html": [
       "<div>\n",
       "<style scoped>\n",
       "    .dataframe tbody tr th:only-of-type {\n",
       "        vertical-align: middle;\n",
       "    }\n",
       "\n",
       "    .dataframe tbody tr th {\n",
       "        vertical-align: top;\n",
       "    }\n",
       "\n",
       "    .dataframe thead th {\n",
       "        text-align: right;\n",
       "    }\n",
       "</style>\n",
       "<table border=\"1\" class=\"dataframe\">\n",
       "  <thead>\n",
       "    <tr style=\"text-align: right;\">\n",
       "      <th></th>\n",
       "      <th>user_id</th>\n",
       "      <th>item_id</th>\n",
       "      <th>datetime</th>\n",
       "      <th>weight</th>\n",
       "      <th>watched_pct</th>\n",
       "    </tr>\n",
       "  </thead>\n",
       "  <tbody>\n",
       "    <tr>\n",
       "      <th>0</th>\n",
       "      <td>176549</td>\n",
       "      <td>9506</td>\n",
       "      <td>2021-05-11</td>\n",
       "      <td>4250</td>\n",
       "      <td>72.0</td>\n",
       "    </tr>\n",
       "    <tr>\n",
       "      <th>1</th>\n",
       "      <td>699317</td>\n",
       "      <td>1659</td>\n",
       "      <td>2021-05-29</td>\n",
       "      <td>8317</td>\n",
       "      <td>100.0</td>\n",
       "    </tr>\n",
       "    <tr>\n",
       "      <th>2</th>\n",
       "      <td>656683</td>\n",
       "      <td>7107</td>\n",
       "      <td>2021-05-09</td>\n",
       "      <td>10</td>\n",
       "      <td>0.0</td>\n",
       "    </tr>\n",
       "    <tr>\n",
       "      <th>3</th>\n",
       "      <td>864613</td>\n",
       "      <td>7638</td>\n",
       "      <td>2021-07-05</td>\n",
       "      <td>14483</td>\n",
       "      <td>100.0</td>\n",
       "    </tr>\n",
       "    <tr>\n",
       "      <th>4</th>\n",
       "      <td>964868</td>\n",
       "      <td>9506</td>\n",
       "      <td>2021-04-30</td>\n",
       "      <td>6725</td>\n",
       "      <td>100.0</td>\n",
       "    </tr>\n",
       "  </tbody>\n",
       "</table>\n",
       "</div>"
      ],
      "text/plain": [
       "   user_id  item_id   datetime  weight  watched_pct\n",
       "0   176549     9506 2021-05-11    4250         72.0\n",
       "1   699317     1659 2021-05-29    8317        100.0\n",
       "2   656683     7107 2021-05-09      10          0.0\n",
       "3   864613     7638 2021-07-05   14483        100.0\n",
       "4   964868     9506 2021-04-30    6725        100.0"
      ]
     },
     "execution_count": 3,
     "metadata": {},
     "output_type": "execute_result"
    }
   ],
   "source": [
    "data_path = os.environ.get('DATA_PATH')\n",
    "\n",
    "\n",
    "if data_path is None:\n",
    "    data_path = '../data_original'\n",
    "\n",
    "\n",
    "interactions = pd.read_csv(\n",
    "    os.path.join(data_path, 'interactions.csv'), parse_dates=['last_watch_dt']\n",
    ")\n",
    "interactions = interactions.rename(\n",
    "    columns={'total_dur': Columns.Weight, 'last_watch_dt': Columns.Datetime}\n",
    ")\n",
    "\n",
    "users = pd.read_csv(os.path.join(data_path, 'users.csv'))\n",
    "items = pd.read_csv(os.path.join(data_path, 'items.csv'))\n",
    "\n",
    "print(interactions.shape)\n",
    "interactions.head()"
   ]
  },
  {
   "cell_type": "code",
   "execution_count": 4,
   "id": "ecfa3e3e-477e-449c-863f-83decd2a608f",
   "metadata": {
    "deletable": false,
    "execution": {
     "iopub.execute_input": "2025-04-06T16:24:13.368334Z",
     "iopub.status.busy": "2025-04-06T16:24:13.367968Z",
     "iopub.status.idle": "2025-04-06T16:24:15.475993Z",
     "shell.execute_reply": "2025-04-06T16:24:15.474840Z",
     "shell.execute_reply.started": "2025-04-06T16:24:13.368293Z"
    },
    "nbgrader": {
     "cell_type": "code",
     "checksum": "1a4aa13aa9a65766719506af8f33e9e6",
     "grade": false,
     "grade_id": "cell-457223d68ac460f6",
     "locked": true,
     "schema_version": 3,
     "solution": false,
     "task": false
    },
    "trusted": true
   },
   "outputs": [
    {
     "name": "stderr",
     "output_type": "stream",
     "text": [
      "C:\\Users\\iqpiv\\AppData\\Local\\Temp\\ipykernel_20356\\3411243360.py:11: SettingWithCopyWarning: \n",
      "A value is trying to be set on a copy of a slice from a DataFrame\n",
      "\n",
      "See the caveats in the documentation: https://pandas.pydata.org/pandas-docs/stable/user_guide/indexing.html#returning-a-view-versus-a-copy\n",
      "  test.drop(test[test[Columns.User].isin(cold_users)].index, inplace=True)\n"
     ]
    },
    {
     "data": {
      "text/plain": [
       "((5051815, 5), (306752, 5), 15577, 167348, 111240, 56108)"
      ]
     },
     "execution_count": 4,
     "metadata": {},
     "output_type": "execute_result"
    }
   ],
   "source": [
    "N_DAYS = 7\n",
    "\n",
    "max_date = interactions['datetime'].max()\n",
    "train = interactions[(interactions['datetime'] <= max_date - pd.Timedelta(days=N_DAYS))]\n",
    "test = interactions[(interactions['datetime'] > max_date - pd.Timedelta(days=N_DAYS))]\n",
    "\n",
    "catalog = train[Columns.Item].unique()\n",
    "\n",
    "test_users = test[Columns.User].unique()\n",
    "cold_users = set(test_users) - set(train[Columns.User])\n",
    "test.drop(test[test[Columns.User].isin(cold_users)].index, inplace=True)\n",
    "hot_users = test[Columns.User].unique()\n",
    "\n",
    "train.shape, test.shape, len(catalog), len(test_users), len(hot_users), len(cold_users)"
   ]
  },
  {
   "cell_type": "code",
   "execution_count": 5,
   "id": "ce453ef0-8096-435a-a57d-9bd1e8a1bd92",
   "metadata": {
    "deletable": false,
    "execution": {
     "iopub.execute_input": "2025-04-06T16:24:15.477389Z",
     "iopub.status.busy": "2025-04-06T16:24:15.477108Z",
     "iopub.status.idle": "2025-04-06T16:24:15.481737Z",
     "shell.execute_reply": "2025-04-06T16:24:15.480542Z",
     "shell.execute_reply.started": "2025-04-06T16:24:15.477364Z"
    },
    "nbgrader": {
     "cell_type": "code",
     "checksum": "d8dfcef8f2158255895e0e01f6fd53fe",
     "grade": false,
     "grade_id": "cell-90b2240359478847",
     "locked": true,
     "schema_version": 3,
     "solution": false,
     "task": false
    },
    "trusted": true
   },
   "outputs": [],
   "source": [
    "K_RECOS = 10\n",
    "map10 = MAP(k=K_RECOS)"
   ]
  },
  {
   "cell_type": "markdown",
   "id": "bbf27eea-8d75-4c14-9783-c6a3b9e920cc",
   "metadata": {
    "deletable": false,
    "nbgrader": {
     "cell_type": "markdown",
     "checksum": "ee2add9275ef7627b3eb97d6176bf2a8",
     "grade": false,
     "grade_id": "cell-cb516a6d62c42c95",
     "locked": true,
     "schema_version": 3,
     "solution": false,
     "task": false
    }
   },
   "source": [
    "## ImplicitALS\n",
    "\n",
    "### Ситуация:\n",
    "\n",
    "Коллега вернулся из отпуска и вы вместе сели за улучшение модели. Внимательно изучив репозиторий библиотеки implicit вы увидели модель iALS и решаете попробовать ее в деле.\n",
    "\n",
    "Чтобы работа была интереснее, вы заключаете пари с вашим коллегой о том, кто выбьет больше MAP@K на горячих пользователях. \n",
    "\n",
    "Правила пари: \n",
    "- Валидируемся на последней неделе (переменная `test`) и на горячих пользователях `hot_users`\n",
    "- Можно собрать свой `Dataset` на основе `train`, трансформированного, если нужно\n",
    "- Параметры модели задаются конфигом, которые будут передаваться в `model_from_config`\n",
    "\n",
    "У вашего коллеги получилось выбить на ImplicitALS `MAP@K = 0.052`. Ваша задача побить его рекорд."
   ]
  },
  {
   "cell_type": "code",
   "execution_count": 6,
   "id": "e2bda5fd",
   "metadata": {
    "execution": {
     "iopub.execute_input": "2025-04-06T16:24:15.483016Z",
     "iopub.status.busy": "2025-04-06T16:24:15.482705Z",
     "iopub.status.idle": "2025-04-06T16:24:16.526826Z",
     "shell.execute_reply": "2025-04-06T16:24:16.525904Z",
     "shell.execute_reply.started": "2025-04-06T16:24:15.482991Z"
    },
    "trusted": true
   },
   "outputs": [],
   "source": [
    "train_2 = train.copy()\n",
    "train_2[Columns.Weight] = np.where(train_2[Columns.Weight] > 10, 10, 1)\n",
    "dataset = Dataset.construct(train_2)"
   ]
  },
  {
   "cell_type": "code",
   "execution_count": 7,
   "id": "c6e7a72c",
   "metadata": {
    "execution": {
     "iopub.execute_input": "2025-04-06T16:24:16.529737Z",
     "iopub.status.busy": "2025-04-06T16:24:16.529441Z",
     "iopub.status.idle": "2025-04-06T16:24:16.534524Z",
     "shell.execute_reply": "2025-04-06T16:24:16.533107Z",
     "shell.execute_reply.started": "2025-04-06T16:24:16.529711Z"
    },
    "trusted": true
   },
   "outputs": [],
   "source": [
    "config = {\n",
    "    'cls': 'ImplicitALSWrapperModel',\n",
    "    'model': {\n",
    "        'factors': 4,\n",
    "        'regularization': 0.5,\n",
    "        'alpha': 5,\n",
    "        'iterations': 64,\n",
    "        'use_gpu': False,\n",
    "        'random_state': 42,\n",
    "    },\n",
    "}"
   ]
  },
  {
   "cell_type": "code",
   "execution_count": 8,
   "id": "53655cd3-8757-4d0c-a518-eb7ac2fbf703",
   "metadata": {
    "deletable": false,
    "execution": {
     "iopub.execute_input": "2025-04-06T16:24:16.537114Z",
     "iopub.status.busy": "2025-04-06T16:24:16.536663Z",
     "iopub.status.idle": "2025-04-06T16:26:24.276899Z",
     "shell.execute_reply": "2025-04-06T16:26:24.275844Z",
     "shell.execute_reply.started": "2025-04-06T16:24:16.537079Z"
    },
    "nbgrader": {
     "cell_type": "code",
     "checksum": "495498ee54854e00401257321764ba0d",
     "grade": true,
     "grade_id": "cell-6c041ad93abfab9a",
     "locked": true,
     "points": 4,
     "schema_version": 3,
     "solution": false,
     "task": false
    },
    "trusted": true
   },
   "outputs": [
    {
     "name": "stdout",
     "output_type": "stream",
     "text": [
      "0.06828654560913162\n"
     ]
    }
   ],
   "source": [
    "# %%time\n",
    "assert config['cls'] == 'ImplicitALSWrapperModel'\n",
    "\n",
    "model = model_from_config(config)\n",
    "model.fit(dataset)\n",
    "\n",
    "recos = model.recommend(\n",
    "    users=hot_users,\n",
    "    dataset=dataset,\n",
    "    k=K_RECOS,\n",
    "    filter_viewed=True,\n",
    ")\n",
    "print(map10.calc(recos, test))\n",
    "\n",
    "assert map10.calc(recos, test) >= 0.052"
   ]
  },
  {
   "cell_type": "markdown",
   "id": "efc4444f-df43-40fd-82eb-1490fe875e66",
   "metadata": {
    "deletable": false,
    "nbgrader": {
     "cell_type": "markdown",
     "checksum": "ad54be3de464395333172c61b3dc2b04",
     "grade": false,
     "grade_id": "cell-0e332207e456475b",
     "locked": true,
     "schema_version": 3,
     "solution": false,
     "task": false
    }
   },
   "source": [
    "## SVD\n",
    "\n",
    "На ваш громкий спор с коллегой о том, что все дело в вашем удачном random seed, к вам подошел ваш лид. \n",
    "\n",
    "Узнав детали вашего спора, он дает вам комментарий, что iALS хороша, но погружение в матричную факторизацию следует начинать с `SVD`.\n",
    "\n",
    "Вы переглянулись с коллегой и решаете уладить спор о random seed во втором раунде, используя новую модель.\n",
    "\n",
    "Ваш коллега смог выбить на SVD `MAP@K = 0.066`. Вы знаете, что делать."
   ]
  },
  {
   "cell_type": "code",
   "execution_count": 9,
   "id": "061caaa5-197e-431a-be19-d2d5d45bcf77",
   "metadata": {
    "deletable": false,
    "execution": {
     "iopub.execute_input": "2025-04-06T16:26:24.278464Z",
     "iopub.status.busy": "2025-04-06T16:26:24.278084Z",
     "iopub.status.idle": "2025-04-06T16:26:24.283068Z",
     "shell.execute_reply": "2025-04-06T16:26:24.282047Z",
     "shell.execute_reply.started": "2025-04-06T16:26:24.278429Z"
    },
    "nbgrader": {
     "cell_type": "code",
     "checksum": "fb069b2b657931bd000b904a1011d957",
     "grade": false,
     "grade_id": "cell-f1b963c73db09e3a",
     "locked": false,
     "schema_version": 3,
     "solution": true,
     "task": false
    },
    "trusted": true
   },
   "outputs": [],
   "source": [
    "config = {\n",
    "    'cls': 'PureSVDModel',\n",
    "    'factors': 2,\n",
    "    'use_gpu': False,\n",
    "    'random_state': 42,\n",
    "}"
   ]
  },
  {
   "cell_type": "code",
   "execution_count": 10,
   "id": "ee6a668e-6955-42a5-81a0-f43201eb7b17",
   "metadata": {
    "deletable": false,
    "execution": {
     "iopub.execute_input": "2025-04-06T16:26:24.284485Z",
     "iopub.status.busy": "2025-04-06T16:26:24.284125Z",
     "iopub.status.idle": "2025-04-06T16:26:41.172928Z",
     "shell.execute_reply": "2025-04-06T16:26:41.171857Z",
     "shell.execute_reply.started": "2025-04-06T16:26:24.284450Z"
    },
    "nbgrader": {
     "cell_type": "code",
     "checksum": "7442425085278d3f14732ef6fdaa6c74",
     "grade": true,
     "grade_id": "cell-366e2b318e3b502d",
     "locked": true,
     "points": 4,
     "schema_version": 3,
     "solution": false,
     "task": false
    },
    "trusted": true
   },
   "outputs": [
    {
     "name": "stdout",
     "output_type": "stream",
     "text": [
      "0.0703870578041766\n"
     ]
    }
   ],
   "source": [
    "# %%time\n",
    "assert config['cls'] == 'PureSVDModel'\n",
    "\n",
    "model = model_from_config(config)\n",
    "model.fit(dataset)\n",
    "\n",
    "recos = model.recommend(\n",
    "    users=hot_users,\n",
    "    dataset=dataset,\n",
    "    k=K_RECOS,\n",
    "    filter_viewed=True,\n",
    ")\n",
    "print(map10.calc(recos, test))\n",
    "\n",
    "assert map10.calc(recos, test) >= 0.066"
   ]
  },
  {
   "cell_type": "markdown",
   "id": "a15c9a89-3727-4298-8f4c-fdc6c737f444",
   "metadata": {
    "deletable": false,
    "nbgrader": {
     "cell_type": "markdown",
     "checksum": "77cc40214388de1a4cbcdfad0d43c99d",
     "grade": false,
     "grade_id": "cell-27880a79f53a4d38",
     "locked": true,
     "schema_version": 3,
     "solution": false,
     "task": false
    }
   },
   "source": [
    "## Dataset with features\n",
    "\n",
    "\"Ну это ни в какие ворота!\" - восклицает ваш коллега, увидев ваш победный конфиг. Из другого угла опенспейса доносится \"А я говорил\" от вашего лида.\n",
    "\n",
    "В это время к вам сзади подходит продакт и интересуется предметом вашего спора.\n",
    "\n",
    "Рассказав про особенности найденных вами моделей, он просит вас в них докинуть фичи, ведь на одних взаимодействиях далеко не уедешь.\n",
    "\n",
    "Вы согласились, ведь это отличная возможность продолжить пари. Соберите `Dataset` с фичами по пользователям и итемам, который вы будете использовать дальше\n"
   ]
  },
  {
   "cell_type": "code",
   "execution_count": null,
   "id": "e55560a0",
   "metadata": {
    "execution": {
     "iopub.execute_input": "2025-04-06T16:26:41.174161Z",
     "iopub.status.busy": "2025-04-06T16:26:41.173859Z",
     "iopub.status.idle": "2025-04-06T16:26:41.316785Z",
     "shell.execute_reply": "2025-04-06T16:26:41.315899Z",
     "shell.execute_reply.started": "2025-04-06T16:26:41.174139Z"
    },
    "trusted": true
   },
   "outputs": [
    {
     "data": {
      "text/html": [
       "<div>\n",
       "<style scoped>\n",
       "    .dataframe tbody tr th:only-of-type {\n",
       "        vertical-align: middle;\n",
       "    }\n",
       "\n",
       "    .dataframe tbody tr th {\n",
       "        vertical-align: top;\n",
       "    }\n",
       "\n",
       "    .dataframe thead th {\n",
       "        text-align: right;\n",
       "    }\n",
       "</style>\n",
       "<table border=\"1\" class=\"dataframe\">\n",
       "  <thead>\n",
       "    <tr style=\"text-align: right;\">\n",
       "      <th></th>\n",
       "      <th>id</th>\n",
       "      <th>value</th>\n",
       "      <th>feature</th>\n",
       "    </tr>\n",
       "  </thead>\n",
       "  <tbody>\n",
       "    <tr>\n",
       "      <th>840189</th>\n",
       "      <td>191349</td>\n",
       "      <td>income_40_60</td>\n",
       "      <td>income</td>\n",
       "    </tr>\n",
       "    <tr>\n",
       "      <th>840190</th>\n",
       "      <td>393868</td>\n",
       "      <td>income_20_40</td>\n",
       "      <td>income</td>\n",
       "    </tr>\n",
       "    <tr>\n",
       "      <th>840192</th>\n",
       "      <td>339025</td>\n",
       "      <td>income_0_20</td>\n",
       "      <td>income</td>\n",
       "    </tr>\n",
       "    <tr>\n",
       "      <th>840194</th>\n",
       "      <td>251008</td>\n",
       "      <td>NaN</td>\n",
       "      <td>income</td>\n",
       "    </tr>\n",
       "    <tr>\n",
       "      <th>840195</th>\n",
       "      <td>590706</td>\n",
       "      <td>NaN</td>\n",
       "      <td>income</td>\n",
       "    </tr>\n",
       "  </tbody>\n",
       "</table>\n",
       "</div>"
      ],
      "text/plain": [
       "            id         value feature\n",
       "840189  191349  income_40_60  income\n",
       "840190  393868  income_20_40  income\n",
       "840192  339025   income_0_20  income\n",
       "840194  251008           NaN  income\n",
       "840195  590706           NaN  income"
      ]
     },
     "execution_count": 11,
     "metadata": {},
     "output_type": "execute_result"
    }
   ],
   "source": [
    "users = users.loc[users[Columns.User].isin(interactions[Columns.User])].copy()\n",
    "user_features_frames = []\n",
    "\n",
    "for feature in ['sex', 'age', 'income']:\n",
    "    feature_frame = users.reindex(columns=[Columns.User, feature])\n",
    "    feature_frame.columns = ['id', 'value']\n",
    "    feature_frame['feature'] = feature\n",
    "    user_features_frames.append(feature_frame)\n",
    "\n",
    "user_features = pd.concat(user_features_frames)\n",
    "user_features.tail()"
   ]
  },
  {
   "cell_type": "code",
   "execution_count": null,
   "id": "c0580599",
   "metadata": {
    "execution": {
     "iopub.execute_input": "2025-04-06T16:26:41.317923Z",
     "iopub.status.busy": "2025-04-06T16:26:41.317622Z",
     "iopub.status.idle": "2025-04-06T16:26:41.375631Z",
     "shell.execute_reply": "2025-04-06T16:26:41.374496Z",
     "shell.execute_reply.started": "2025-04-06T16:26:41.317899Z"
    },
    "trusted": true
   },
   "outputs": [
    {
     "data": {
      "text/html": [
       "<div>\n",
       "<style scoped>\n",
       "    .dataframe tbody tr th:only-of-type {\n",
       "        vertical-align: middle;\n",
       "    }\n",
       "\n",
       "    .dataframe tbody tr th {\n",
       "        vertical-align: top;\n",
       "    }\n",
       "\n",
       "    .dataframe thead th {\n",
       "        text-align: right;\n",
       "    }\n",
       "</style>\n",
       "<table border=\"1\" class=\"dataframe\">\n",
       "  <thead>\n",
       "    <tr style=\"text-align: right;\">\n",
       "      <th></th>\n",
       "      <th>id</th>\n",
       "      <th>value</th>\n",
       "      <th>feature</th>\n",
       "    </tr>\n",
       "  </thead>\n",
       "  <tbody>\n",
       "    <tr>\n",
       "      <th>15958</th>\n",
       "      <td>6443</td>\n",
       "      <td>series</td>\n",
       "      <td>content_type</td>\n",
       "    </tr>\n",
       "    <tr>\n",
       "      <th>15959</th>\n",
       "      <td>2367</td>\n",
       "      <td>series</td>\n",
       "      <td>content_type</td>\n",
       "    </tr>\n",
       "    <tr>\n",
       "      <th>15960</th>\n",
       "      <td>10632</td>\n",
       "      <td>series</td>\n",
       "      <td>content_type</td>\n",
       "    </tr>\n",
       "    <tr>\n",
       "      <th>15961</th>\n",
       "      <td>4538</td>\n",
       "      <td>series</td>\n",
       "      <td>content_type</td>\n",
       "    </tr>\n",
       "    <tr>\n",
       "      <th>15962</th>\n",
       "      <td>3206</td>\n",
       "      <td>series</td>\n",
       "      <td>content_type</td>\n",
       "    </tr>\n",
       "  </tbody>\n",
       "</table>\n",
       "</div>"
      ],
      "text/plain": [
       "          id   value       feature\n",
       "15958   6443  series  content_type\n",
       "15959   2367  series  content_type\n",
       "15960  10632  series  content_type\n",
       "15961   4538  series  content_type\n",
       "15962   3206  series  content_type"
      ]
     },
     "execution_count": 12,
     "metadata": {},
     "output_type": "execute_result"
    }
   ],
   "source": [
    "items = items.loc[items[Columns.Item].isin(interactions[Columns.Item])].copy()\n",
    "\n",
    "items['genre'] = (\n",
    "    items['genres'].str.lower().str.replace(', ', ',', regex=False).str.split(',')\n",
    ")\n",
    "genre_feature = items[['item_id', 'genre']].explode('genre')\n",
    "genre_feature.columns = ['id', 'value']\n",
    "genre_feature['feature'] = 'genre'\n",
    "\n",
    "content_feature = items.reindex(columns=[Columns.Item, 'content_type'])\n",
    "content_feature.columns = ['id', 'value']\n",
    "content_feature['feature'] = 'content_type'\n",
    "\n",
    "item_features = pd.concat((genre_feature, content_feature))\n",
    "item_features.tail()"
   ]
  },
  {
   "cell_type": "code",
   "execution_count": 13,
   "id": "a4401951-ae61-4b0b-af21-76bdee4d05a1",
   "metadata": {
    "deletable": false,
    "execution": {
     "iopub.execute_input": "2025-04-06T16:26:41.377099Z",
     "iopub.status.busy": "2025-04-06T16:26:41.376663Z",
     "iopub.status.idle": "2025-04-06T16:26:43.281838Z",
     "shell.execute_reply": "2025-04-06T16:26:43.280876Z",
     "shell.execute_reply.started": "2025-04-06T16:26:41.377064Z"
    },
    "nbgrader": {
     "cell_type": "code",
     "checksum": "b59f31697e1dfb1c96f50724c8cc8189",
     "grade": false,
     "grade_id": "cell-b0397a70b8235dd9",
     "locked": false,
     "schema_version": 3,
     "solution": true,
     "task": false
    },
    "trusted": true
   },
   "outputs": [],
   "source": [
    "dataset_with_features = Dataset.construct(\n",
    "    interactions_df=train_2,\n",
    "    user_features_df=user_features,\n",
    "    cat_user_features=['sex', 'age', 'income'],\n",
    "    item_features_df=item_features,\n",
    "    cat_item_features=['genre', 'content_type'],\n",
    ")"
   ]
  },
  {
   "cell_type": "code",
   "execution_count": 14,
   "id": "3ae33beb-75c5-452e-b765-728da8541f1a",
   "metadata": {
    "deletable": false,
    "execution": {
     "iopub.execute_input": "2025-04-06T16:26:43.283188Z",
     "iopub.status.busy": "2025-04-06T16:26:43.282892Z",
     "iopub.status.idle": "2025-04-06T16:26:43.287953Z",
     "shell.execute_reply": "2025-04-06T16:26:43.286655Z",
     "shell.execute_reply.started": "2025-04-06T16:26:43.283166Z"
    },
    "nbgrader": {
     "cell_type": "code",
     "checksum": "e5bd9f36f5935febfb3fd89aa0ceb858",
     "grade": true,
     "grade_id": "cell-7773b657b67af87b",
     "locked": true,
     "points": 2,
     "schema_version": 3,
     "solution": false,
     "task": false
    },
    "trusted": true
   },
   "outputs": [],
   "source": [
    "assert (dataset_with_features.user_features is not None) and (\n",
    "    dataset_with_features.item_features is not None\n",
    ")"
   ]
  },
  {
   "cell_type": "markdown",
   "id": "c816b107-22ed-4d1b-a7dc-c24204918b27",
   "metadata": {
    "deletable": false,
    "nbgrader": {
     "cell_type": "markdown",
     "checksum": "ab7db39bce2b8ccce0a780e3844afe3c",
     "grade": false,
     "grade_id": "cell-cd998c54807b4e86",
     "locked": true,
     "schema_version": 3,
     "solution": false,
     "task": false
    }
   },
   "source": [
    "## ImplicitALS with features\n",
    "\n",
    "Собрав датасет с фичами вы готовы к третьему раунду пари. \n",
    "\n",
    "Вы решаете начать снова с `iALS`, до сих пор удивляясь результатам модели `SVD`.\n",
    "\n",
    "Ваш коллега изучил вашу технику подбора random seed и хитро улыбается вам.\n",
    "\n",
    "Он смог выбить `MAP@K = 0.073`, теперь ваш ход."
   ]
  },
  {
   "cell_type": "code",
   "execution_count": 15,
   "id": "71a204d4-db2e-4733-8dac-1bac63672ea7",
   "metadata": {
    "deletable": false,
    "execution": {
     "iopub.execute_input": "2025-04-06T16:26:43.289489Z",
     "iopub.status.busy": "2025-04-06T16:26:43.289078Z",
     "iopub.status.idle": "2025-04-06T16:26:43.313132Z",
     "shell.execute_reply": "2025-04-06T16:26:43.311810Z",
     "shell.execute_reply.started": "2025-04-06T16:26:43.289448Z"
    },
    "nbgrader": {
     "cell_type": "code",
     "checksum": "801d13cb2a998d3fe0ac43a43aafa21e",
     "grade": false,
     "grade_id": "cell-651def1b6c1a52b6",
     "locked": false,
     "schema_version": 3,
     "solution": true,
     "task": false
    },
    "trusted": true
   },
   "outputs": [],
   "source": [
    "config = {\n",
    "    'cls': 'ImplicitALSWrapperModel',\n",
    "    'model': {\n",
    "        'factors': 4,\n",
    "        'regularization': 0.5,\n",
    "        'alpha': 5,\n",
    "        'iterations': 64,\n",
    "        'use_gpu': False,\n",
    "        'random_state': 42,\n",
    "    },\n",
    "}"
   ]
  },
  {
   "cell_type": "code",
   "execution_count": 16,
   "id": "990ee09f-7c93-4ccf-9ff9-eff9a6d772f1",
   "metadata": {
    "deletable": false,
    "execution": {
     "iopub.execute_input": "2025-04-06T16:26:43.314542Z",
     "iopub.status.busy": "2025-04-06T16:26:43.314271Z",
     "iopub.status.idle": "2025-04-06T16:28:54.738948Z",
     "shell.execute_reply": "2025-04-06T16:28:54.738033Z",
     "shell.execute_reply.started": "2025-04-06T16:26:43.314520Z"
    },
    "nbgrader": {
     "cell_type": "code",
     "checksum": "1647b9fff8511e08b9e0775e030720a6",
     "grade": true,
     "grade_id": "cell-f3ed67874a568322",
     "locked": true,
     "points": 5,
     "schema_version": 3,
     "solution": false,
     "task": false
    },
    "trusted": true
   },
   "outputs": [
    {
     "name": "stderr",
     "output_type": "stream",
     "text": [
      "d:\\GitHub\\itmo_recsys\\.venv\\Lib\\site-packages\\rectools\\dataset\\features.py:424: UserWarning: Converting sparse features to dense array may cause MemoryError\n",
      "  warnings.warn(\"Converting sparse features to dense array may cause MemoryError\")\n",
      "100%|██████████| 1/1 [00:03<00:00,  3.98s/it]\n",
      "100%|██████████| 1/1 [00:05<00:00,  5.12s/it]\n"
     ]
    },
    {
     "name": "stdout",
     "output_type": "stream",
     "text": [
      "0.08206192770527554\n"
     ]
    }
   ],
   "source": [
    "# %%time\n",
    "assert config['cls'] == 'ImplicitALSWrapperModel'\n",
    "\n",
    "model = model_from_config(config)\n",
    "model.fit(dataset_with_features)\n",
    "\n",
    "recos = model.recommend(\n",
    "    users=hot_users,\n",
    "    dataset=dataset_with_features,\n",
    "    k=K_RECOS,\n",
    "    filter_viewed=True,\n",
    ")\n",
    "print(map10.calc(recos, test))\n",
    "\n",
    "assert map10.calc(recos, test) >= 0.073"
   ]
  },
  {
   "cell_type": "markdown",
   "id": "90db2890-cd95-4d87-bcd6-daea1ac3ebaf",
   "metadata": {
    "deletable": false,
    "nbgrader": {
     "cell_type": "markdown",
     "checksum": "78909d2aae6602db543a1c1bb5f15c9f",
     "grade": false,
     "grade_id": "cell-be7c982c198ab7fa",
     "locked": true,
     "schema_version": 3,
     "solution": false,
     "task": false
    }
   },
   "source": [
    "## LightFM with features\n",
    "\n",
    "И снова ор выше гор, ваш пайплайн подготовки датасета помог вам в очередной раз обойти вашего коллегу.\n",
    "\n",
    "Не зная, к чему еще аппелировать, он зовет вашего старшего коллегу, чтобы тот внимательно изучил полученные результаты.\n",
    "\n",
    "\"iALS с фичами это хорошо, но тут стоит попробовать факторизационные машины, попробуйте `LightFM`\" - заключает он. Вы переключаетесь на изучение новой библиотеки, предвкушая финальный раунд.\n",
    "\n",
    "Ваш коллега смог выжать из своего обновленного `Dataset` и `LightFM` скор `MAP@10 = 0.08`. Последний рывок."
   ]
  },
  {
   "cell_type": "code",
   "execution_count": 18,
   "id": "a735f0ce-f340-480e-b423-838d8f792a8a",
   "metadata": {
    "execution": {
     "iopub.execute_input": "2025-04-06T16:28:54.740413Z",
     "iopub.status.busy": "2025-04-06T16:28:54.740042Z",
     "iopub.status.idle": "2025-04-06T16:28:54.745235Z",
     "shell.execute_reply": "2025-04-06T16:28:54.744147Z",
     "shell.execute_reply.started": "2025-04-06T16:28:54.740379Z"
    },
    "trusted": true
   },
   "outputs": [],
   "source": [
    "config = {\n",
    "    'cls': 'LightFMWrapperModel',\n",
    "    'model': {\n",
    "        'loss': 'warp',\n",
    "        'no_components': 100,\n",
    "        'learning_rate': 0.0004069497441886399,\n",
    "        'user_alpha': 0.5,\n",
    "        'item_alpha': 0.88,\n",
    "        'random_state': 42,\n",
    "    },\n",
    "}"
   ]
  },
  {
   "cell_type": "code",
   "execution_count": 19,
   "id": "77081fd4-13f2-46c7-88d2-e2a716d00216",
   "metadata": {
    "deletable": false,
    "execution": {
     "iopub.execute_input": "2025-04-06T16:28:54.746632Z",
     "iopub.status.busy": "2025-04-06T16:28:54.746248Z",
     "iopub.status.idle": "2025-04-06T16:30:16.844137Z",
     "shell.execute_reply": "2025-04-06T16:30:16.842991Z",
     "shell.execute_reply.started": "2025-04-06T16:28:54.746595Z"
    },
    "nbgrader": {
     "cell_type": "code",
     "checksum": "a4709d6a6bd4ee8dc0429b7c665404b1",
     "grade": true,
     "grade_id": "cell-754f9152c2a343a5",
     "locked": true,
     "points": 5,
     "schema_version": 3,
     "solution": false,
     "task": false
    },
    "trusted": true
   },
   "outputs": [
    {
     "name": "stdout",
     "output_type": "stream",
     "text": [
      "0.08096089312519526\n"
     ]
    }
   ],
   "source": [
    "# %%time\n",
    "assert config['cls'] == 'LightFMWrapperModel'\n",
    "\n",
    "model = model_from_config(config)\n",
    "model.fit(dataset_with_features)\n",
    "\n",
    "recos = model.recommend(\n",
    "    users=hot_users,\n",
    "    dataset=dataset_with_features,\n",
    "    k=K_RECOS,\n",
    "    filter_viewed=True,\n",
    ")\n",
    "print(map10.calc(recos, test))\n",
    "\n",
    "assert map10.calc(recos, test) >= 0.08"
   ]
  },
  {
   "cell_type": "markdown",
   "id": "d66532fb-7c3d-42a9-80cb-b93b27607b51",
   "metadata": {
    "deletable": false,
    "nbgrader": {
     "cell_type": "markdown",
     "checksum": "0454bd766dd9f1f03ac555efdbc643de",
     "grade": false,
     "grade_id": "cell-118d671fe7000a31",
     "locked": true,
     "schema_version": 3,
     "solution": false,
     "task": false
    }
   },
   "source": [
    "## Сервис\n",
    "\n",
    "Эта битва была легендарной, но вот за спиной опять появляется ваш продакт. \n",
    "\n",
    "\"Время катить АБ\" - говорит он в пятницу вечером. Делать нечего, вы собираете ваши наработки и определяете совместный фронт работ.\n",
    "\n",
    "В прод должна заехать лучшая модель, которая побьет текущей модели в проде в `MAP@10 = 0.075`.\n",
    "\n",
    "Также есть бонус от вашего старшего коллеги, который вам советует присмотреться к `Approximate nearest neighbours`, например к `nmslib`.\n",
    "\n",
    "\"Если сможешь обернуть в ANN, то на следующем годовом ревью получишь от меня оценку отлично\" - сказал он. Изучить новые технологии и получить повышение - идеально, заключаете вы и бросаетесь в бой."
   ]
  },
  {
   "cell_type": "markdown",
   "id": "920eaf23-c2e5-4022-9641-b32d24cef82a",
   "metadata": {
    "deletable": false,
    "nbgrader": {
     "cell_type": "markdown",
     "checksum": "a48a2bfc2446054cb0f506b90a8a05aa",
     "grade": false,
     "grade_id": "cell-992a2a7a692d4927",
     "locked": true,
     "schema_version": 3,
     "solution": false,
     "task": false
    }
   },
   "source": [
    "# Вместо заключения\n",
    "\n",
    "## Задачи - 25 баллов (30 баллов с доп задачей по ANN)\n",
    "1. Ноутбук `mf.ipynb` - 20 баллов\n",
    "- SVD - 5 баллов\n",
    "- ImplicitALS - 5 баллов\n",
    "- ImplicitALS with features - 5 баллов\n",
    "- LightFM with features - 5 баллов\n",
    "2. Имплементация модели в сервис - 5 баллов\n",
    "- Пробить на Leaderboard порог `map@10 = 0.075`\n",
    "- Если при этом используете MF (Implicit или LightFM) + ANN (nmslib, faiss, annoy и тд) - дополнительно 5 баллов\n",
    "  \n",
    "## Как сдать ноутбук `mf.ipynb` на проверку\n",
    "\n",
    "1. Прогоните весь код ноутбука - проверьте, что нет ошибок и тесты проходят\n",
    "2. Выложите готовый ноутбук в ваш репозиторий с сервисом из домашнего задания №1 по пути `notebooks/hw_4/mf.ipynb` в ветке `hw_4`\n",
    "3. Проверьте, что есть доступ к вашему репозиторию для аккаунтов `https://github.com/feldlime`\n",
    "4. Откройте PR в main ветку и добавьте в ревьюеры **своего ментора**\n",
    "5. Не проводите мердж в `main` ветку, пока не увидите оценку за это ДЗ в ведомости. Файл с ноутбуком должен находиться в ветке `hw_4`\n",
    "\n",
    "Обратите внимание, что сборка ноутбуков на проверку автоматизирована. В случае неправильного пути, имени файла или ветки (а также при отсутствии доступа у `@feldlime`) ваша работа не попадёт на проверку и получит `0` баллов."
   ]
  },
  {
   "cell_type": "code",
   "execution_count": 17,
   "id": "c67464c9",
   "metadata": {},
   "outputs": [
    {
     "name": "stderr",
     "output_type": "stream",
     "text": [
      "d:\\GitHub\\itmo_recsys\\.venv\\Lib\\site-packages\\rectools\\dataset\\features.py:424: UserWarning: Converting sparse features to dense array may cause MemoryError\n",
      "  warnings.warn(\"Converting sparse features to dense array may cause MemoryError\")\n",
      "100%|██████████| 1/1 [00:02<00:00,  2.65s/it]\n",
      "100%|██████████| 1/1 [00:05<00:00,  5.49s/it]\n"
     ]
    },
    {
     "data": {
      "text/plain": [
       "<rectools.models.implicit_als.ImplicitALSWrapperModel at 0x2bff210c410>"
      ]
     },
     "execution_count": 17,
     "metadata": {},
     "output_type": "execute_result"
    }
   ],
   "source": [
    "interactions[Columns.Weight] = np.where(interactions[Columns.Weight] > 10, 10, 1)\n",
    "\n",
    "dataset_with_features = Dataset.construct(\n",
    "    interactions_df=interactions,\n",
    "    user_features_df=user_features,\n",
    "    cat_user_features=['sex', 'age', 'income'],\n",
    "    item_features_df=item_features,\n",
    "    cat_item_features=['genre', 'content_type'],\n",
    ")\n",
    "\n",
    "config = {\n",
    "    'cls': 'ImplicitALSWrapperModel',\n",
    "    'model': {\n",
    "        'factors': 4,\n",
    "        'regularization': 0.5,\n",
    "        'alpha': 5,\n",
    "        'iterations': 64,\n",
    "        'use_gpu': False,\n",
    "        'random_state': 42,\n",
    "    },\n",
    "}\n",
    "\n",
    "model = model_from_config(config)\n",
    "model.fit(dataset_with_features)\n"
   ]
  },
  {
   "cell_type": "code",
   "execution_count": 18,
   "id": "3855c844",
   "metadata": {},
   "outputs": [
    {
     "data": {
      "text/plain": [
       "<rectools.tools.ann.UserToItemAnnRecommender at 0x2bf95f0e250>"
      ]
     },
     "execution_count": 18,
     "metadata": {},
     "output_type": "execute_result"
    }
   ],
   "source": [
    "user_vectors, item_vectors = model.get_vectors()\n",
    "\n",
    "model_ann = UserToItemAnnRecommender(\n",
    "    user_vectors=user_vectors,\n",
    "    item_vectors=item_vectors,\n",
    "    user_id_map=dataset_with_features.user_id_map,\n",
    "    item_id_map=dataset_with_features.item_id_map,\n",
    ")\n",
    "model_ann.fit()"
   ]
  },
  {
   "cell_type": "code",
   "execution_count": 19,
   "id": "6e11efd5",
   "metadata": {},
   "outputs": [],
   "source": [
    "with open('../../models/als_with_features_model.pickle', 'wb') as file:\n",
    "    pickle.dump(model, file)\n",
    "\n",
    "model_ann.index.saveIndex('../../models/als_ann_with_features_index.pickle')\n",
    "\n",
    "with open('../../models/als_ann_dataset_user_id_map.pickle', 'wb') as file:\n",
    "    pickle.dump(dataset_with_features.user_id_map, file)\n",
    "\n",
    "with open('../../models/als_ann_dataset_item_id_map.pickle', 'wb') as file:\n",
    "    pickle.dump(dataset_with_features.item_id_map, file)"
   ]
  }
 ],
 "metadata": {
  "kaggle": {
   "accelerator": "none",
   "dataSources": [],
   "dockerImageVersionId": 30918,
   "isGpuEnabled": false,
   "isInternetEnabled": true,
   "language": "python",
   "sourceType": "notebook"
  },
  "kernelspec": {
   "display_name": "Python 3",
   "language": "python",
   "name": "python3"
  },
  "language_info": {
   "codemirror_mode": {
    "name": "ipython",
    "version": 3
   },
   "file_extension": ".py",
   "mimetype": "text/x-python",
   "name": "python",
   "nbconvert_exporter": "python",
   "pygments_lexer": "ipython3",
   "version": "3.10.12"
  },
  "widgets": {
   "application/vnd.jupyter.widget-state+json": {
    "state": {},
    "version_major": 2,
    "version_minor": 0
   }
  }
 },
 "nbformat": 4,
 "nbformat_minor": 5
}
